{
 "cells": [
  {
   "cell_type": "code",
   "execution_count": 12,
   "metadata": {},
   "outputs": [],
   "source": [
    "file = open('scores.yaml')"
   ]
  },
  {
   "cell_type": "code",
   "execution_count": null,
   "metadata": {},
   "outputs": [],
   "source": []
  },
  {
   "cell_type": "code",
   "execution_count": null,
   "metadata": {},
   "outputs": [],
   "source": []
  },
  {
   "cell_type": "code",
   "execution_count": 2,
   "metadata": {},
   "outputs": [],
   "source": [
    "import yaml"
   ]
  },
  {
   "cell_type": "code",
   "execution_count": 13,
   "metadata": {},
   "outputs": [],
   "source": [
    "data =yaml.load(file, Loader=yaml.FullLoader)"
   ]
  },
  {
   "cell_type": "code",
   "execution_count": null,
   "metadata": {},
   "outputs": [],
   "source": []
  },
  {
   "cell_type": "code",
   "execution_count": 14,
   "metadata": {},
   "outputs": [
    {
     "data": {
      "text/plain": [
       "dict_keys(['Roxie Barrows', \"Willard O'Keefe\", 'Sanora Gibson IV', 'Karri Morissette', 'Dario Bednar', 'Minerva Daniel', 'Emeline Toy', 'Arnold Hamill', 'Britt Rodriguez', 'Edmund Roberts', 'Berneice Schneider I', 'Zena Quitzon', 'Antonia White', 'Sheba Abernathy', 'Genna Thompson II', 'Jacqualine Hickle Jr.', 'Colin Maggio', 'Julio Breitenberg II', 'Ms. Pansy Bosco', 'Becki McDermott DVM', 'Laronda Bartell', 'Clinton Botsford V', 'Charlie Lebsack', 'Santos Deckow I', 'Giovanni Lehner', 'Jodee Trantow Sr.', 'Seth Hirthe', 'Eric Raynor', 'Lina Bode', 'Terence White'])"
      ]
     },
     "execution_count": 14,
     "metadata": {},
     "output_type": "execute_result"
    }
   ],
   "source": [
    "data.keys()"
   ]
  },
  {
   "cell_type": "code",
   "execution_count": 16,
   "metadata": {},
   "outputs": [],
   "source": [
    "scores = data['Roxie Barrows']"
   ]
  },
  {
   "cell_type": "code",
   "execution_count": 17,
   "metadata": {},
   "outputs": [
    {
     "data": {
      "text/plain": [
       "8"
      ]
     },
     "execution_count": 17,
     "metadata": {},
     "output_type": "execute_result"
    }
   ],
   "source": [
    "len(scores)"
   ]
  },
  {
   "cell_type": "code",
   "execution_count": 18,
   "metadata": {},
   "outputs": [],
   "source": [
    "sorted_scores = sorted(scores)"
   ]
  },
  {
   "cell_type": "code",
   "execution_count": 19,
   "metadata": {},
   "outputs": [
    {
     "data": {
      "text/plain": [
       "[50, 57, 57, 58, 58, 74, 79, 88]"
      ]
     },
     "execution_count": 19,
     "metadata": {},
     "output_type": "execute_result"
    }
   ],
   "source": [
    "sorted_scores"
   ]
  },
  {
   "cell_type": "code",
   "execution_count": 22,
   "metadata": {},
   "outputs": [
    {
     "data": {
      "text/plain": [
       "383"
      ]
     },
     "execution_count": 22,
     "metadata": {},
     "output_type": "execute_result"
    }
   ],
   "source": [
    "sum(sorted_scores[1:-1])"
   ]
  },
  {
   "cell_type": "code",
   "execution_count": 23,
   "metadata": {},
   "outputs": [],
   "source": [
    "worst = {}"
   ]
  },
  {
   "cell_type": "code",
   "execution_count": 26,
   "metadata": {},
   "outputs": [],
   "source": [
    "worst.pop(1, None)"
   ]
  },
  {
   "cell_type": "code",
   "execution_count": 27,
   "metadata": {},
   "outputs": [],
   "source": [
    "a = [0,0,0]\n",
    "a.remove(0)"
   ]
  },
  {
   "cell_type": "code",
   "execution_count": 28,
   "metadata": {},
   "outputs": [
    {
     "data": {
      "text/plain": [
       "[0, 0]"
      ]
     },
     "execution_count": 28,
     "metadata": {},
     "output_type": "execute_result"
    }
   ],
   "source": [
    "a"
   ]
  },
  {
   "cell_type": "code",
   "execution_count": 33,
   "metadata": {},
   "outputs": [
    {
     "name": "stdout",
     "output_type": "stream",
     "text": [
      "Roxie Barrows\n",
      "8\n",
      "63.833333333333336\n",
      "Willard O'Keefe\n",
      "15\n",
      "73.15384615384616\n",
      "Sanora Gibson IV\n",
      "12\n",
      "69.0\n",
      "Karri Morissette\n",
      "11\n",
      "69.22222222222223\n",
      "Dario Bednar\n",
      "15\n",
      "73.76923076923077\n",
      "Minerva Daniel\n",
      "17\n",
      "73.4\n",
      "Emeline Toy\n",
      "15\n",
      "78.07692307692308\n",
      "Arnold Hamill\n",
      "8\n",
      "71.0\n",
      "Britt Rodriguez\n",
      "9\n",
      "66.57142857142857\n",
      "Edmund Roberts\n",
      "10\n",
      "72.375\n",
      "Berneice Schneider I\n",
      "15\n",
      "70.61538461538461\n",
      "Zena Quitzon\n",
      "14\n",
      "75.25\n",
      "Antonia White\n",
      "11\n",
      "76.44444444444444\n",
      "Sheba Abernathy\n",
      "15\n",
      "75.38461538461539\n",
      "Genna Thompson II\n",
      "10\n",
      "72.0\n",
      "Jacqualine Hickle Jr.\n",
      "17\n",
      "76.6\n",
      "Colin Maggio\n",
      "5\n",
      "84.0\n",
      "Julio Breitenberg II\n",
      "13\n",
      "64.54545454545455\n",
      "Ms. Pansy Bosco\n",
      "6\n",
      "62.75\n",
      "Becki McDermott DVM\n",
      "11\n",
      "76.0\n",
      "Laronda Bartell\n",
      "10\n",
      "80.625\n",
      "Clinton Botsford V\n",
      "4\n",
      "79.0\n",
      "Charlie Lebsack\n",
      "17\n",
      "77.93333333333334\n",
      "Santos Deckow I\n",
      "12\n",
      "65.5\n",
      "Giovanni Lehner\n",
      "10\n",
      "67.0\n",
      "Jodee Trantow Sr.\n",
      "7\n",
      "73.8\n",
      "Seth Hirthe\n",
      "17\n",
      "75.66666666666667\n",
      "Eric Raynor\n",
      "14\n",
      "71.83333333333333\n",
      "Lina Bode\n",
      "4\n",
      "65.0\n",
      "Terence White\n",
      "11\n",
      "77.33333333333333\n"
     ]
    }
   ],
   "source": [
    "for person, scores in data.items():\n",
    "    print(person)\n",
    "    print(len(scores))\n",
    "    print(sum(sorted(scores)[1:-1])/(len(scores)-2))"
   ]
  },
  {
   "cell_type": "code",
   "execution_count": null,
   "metadata": {},
   "outputs": [],
   "source": []
  },
  {
   "cell_type": "code",
   "execution_count": null,
   "metadata": {},
   "outputs": [],
   "source": []
  },
  {
   "cell_type": "code",
   "execution_count": null,
   "metadata": {},
   "outputs": [],
   "source": []
  },
  {
   "cell_type": "code",
   "execution_count": null,
   "metadata": {},
   "outputs": [],
   "source": []
  },
  {
   "cell_type": "code",
   "execution_count": null,
   "metadata": {},
   "outputs": [],
   "source": []
  },
  {
   "cell_type": "code",
   "execution_count": null,
   "metadata": {},
   "outputs": [],
   "source": []
  },
  {
   "cell_type": "code",
   "execution_count": null,
   "metadata": {},
   "outputs": [],
   "source": []
  },
  {
   "cell_type": "code",
   "execution_count": null,
   "metadata": {},
   "outputs": [],
   "source": []
  },
  {
   "cell_type": "code",
   "execution_count": null,
   "metadata": {},
   "outputs": [],
   "source": []
  },
  {
   "cell_type": "code",
   "execution_count": null,
   "metadata": {},
   "outputs": [],
   "source": []
  },
  {
   "cell_type": "code",
   "execution_count": null,
   "metadata": {},
   "outputs": [],
   "source": []
  },
  {
   "cell_type": "code",
   "execution_count": null,
   "metadata": {},
   "outputs": [],
   "source": []
  },
  {
   "cell_type": "code",
   "execution_count": 10,
   "metadata": {},
   "outputs": [
    {
     "ename": "AttributeError",
     "evalue": "'NoneType' object has no attribute 'keys'",
     "output_type": "error",
     "traceback": [
      "\u001b[0;31m---------------------------------------------------------------------------\u001b[0m",
      "\u001b[0;31mAttributeError\u001b[0m                            Traceback (most recent call last)",
      "\u001b[0;32m<ipython-input-10-43ebc71570da>\u001b[0m in \u001b[0;36m<module>\u001b[0;34m\u001b[0m\n\u001b[0;32m----> 1\u001b[0;31m \u001b[0mdata\u001b[0m\u001b[0;34m.\u001b[0m\u001b[0mkeys\u001b[0m\u001b[0;34m(\u001b[0m\u001b[0;34m)\u001b[0m\u001b[0;34m\u001b[0m\u001b[0;34m\u001b[0m\u001b[0m\n\u001b[0m",
      "\u001b[0;31mAttributeError\u001b[0m: 'NoneType' object has no attribute 'keys'"
     ]
    }
   ],
   "source": [
    "data.keys()"
   ]
  },
  {
   "cell_type": "code",
   "execution_count": null,
   "metadata": {},
   "outputs": [],
   "source": []
  },
  {
   "cell_type": "code",
   "execution_count": null,
   "metadata": {},
   "outputs": [],
   "source": []
  },
  {
   "cell_type": "code",
   "execution_count": null,
   "metadata": {},
   "outputs": [],
   "source": []
  },
  {
   "cell_type": "code",
   "execution_count": null,
   "metadata": {},
   "outputs": [],
   "source": []
  }
 ],
 "metadata": {
  "kernelspec": {
   "display_name": "Python 3",
   "language": "python",
   "name": "python3"
  },
  "language_info": {
   "codemirror_mode": {
    "name": "ipython",
    "version": 3
   },
   "file_extension": ".py",
   "mimetype": "text/x-python",
   "name": "python",
   "nbconvert_exporter": "python",
   "pygments_lexer": "ipython3",
   "version": "3.8.0"
  }
 },
 "nbformat": 4,
 "nbformat_minor": 4
}
